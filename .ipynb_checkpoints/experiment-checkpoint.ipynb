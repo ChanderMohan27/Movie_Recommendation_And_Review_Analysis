{
 "cells": [
  {
   "cell_type": "code",
   "execution_count": 1,
   "metadata": {},
   "outputs": [
    {
     "name": "stderr",
     "output_type": "stream",
     "text": [
      "/Users/chandermohan/anaconda3/lib/python3.11/site-packages/pandas/core/arrays/masked.py:60: UserWarning: Pandas requires version '1.3.6' or newer of 'bottleneck' (version '1.3.5' currently installed).\n",
      "  from pandas.core import (\n"
     ]
    }
   ],
   "source": [
    "import pandas as pd\n",
    "import numpy as np"
   ]
  },
  {
   "cell_type": "code",
   "execution_count": 15,
   "metadata": {},
   "outputs": [],
   "source": [
    "df = pd.read_csv(\"movie_tmdb_review.csv\")"
   ]
  },
  {
   "cell_type": "code",
   "execution_count": 19,
   "metadata": {},
   "outputs": [],
   "source": [
    "a = df[\"id\"].to_list()"
   ]
  },
  {
   "cell_type": "code",
   "execution_count": 20,
   "metadata": {},
   "outputs": [
    {
     "data": {
      "text/plain": [
       "[359410,\n",
       " 693134,\n",
       " 823464,\n",
       " 634492,\n",
       " 792307,\n",
       " 438631,\n",
       " 763215,\n",
       " 1011985,\n",
       " 872585,\n",
       " 802219,\n",
       " 984324,\n",
       " 1125311,\n",
       " 967847,\n",
       " 848538,\n",
       " 787699,\n",
       " 572802,\n",
       " 1181548,\n",
       " 915935,\n",
       " 866398,\n",
       " 467244,\n",
       " 1072790,\n",
       " 857655,\n",
       " 346698,\n",
       " 695721,\n",
       " 636706,\n",
       " 129,\n",
       " 940551,\n",
       " 1022796,\n",
       " 969492,\n",
       " 609681,\n",
       " 508883,\n",
       " 666277,\n",
       " 976893,\n",
       " 399566,\n",
       " 838209,\n",
       " 313369,\n",
       " 157336,\n",
       " 1019420,\n",
       " 671,\n",
       " 1022690]"
      ]
     },
     "execution_count": 20,
     "metadata": {},
     "output_type": "execute_result"
    }
   ],
   "source": [
    "a"
   ]
  },
  {
   "cell_type": "code",
   "execution_count": 2,
   "metadata": {},
   "outputs": [],
   "source": [
    "df = pd.read_csv(\"weather_data.csv\")"
   ]
  },
  {
   "cell_type": "code",
   "execution_count": 4,
   "metadata": {},
   "outputs": [
    {
     "data": {
      "text/html": [
       "<div>\n",
       "<style scoped>\n",
       "    .dataframe tbody tr th:only-of-type {\n",
       "        vertical-align: middle;\n",
       "    }\n",
       "\n",
       "    .dataframe tbody tr th {\n",
       "        vertical-align: top;\n",
       "    }\n",
       "\n",
       "    .dataframe thead th {\n",
       "        text-align: right;\n",
       "    }\n",
       "</style>\n",
       "<table border=\"1\" class=\"dataframe\">\n",
       "  <thead>\n",
       "    <tr style=\"text-align: right;\">\n",
       "      <th></th>\n",
       "      <th>datetime</th>\n",
       "      <th>datetimeEpoch</th>\n",
       "      <th>tempmax</th>\n",
       "      <th>tempmin</th>\n",
       "      <th>temp</th>\n",
       "      <th>feelslikemax</th>\n",
       "      <th>feelslikemin</th>\n",
       "      <th>feelslike</th>\n",
       "      <th>dew</th>\n",
       "      <th>humidity</th>\n",
       "      <th>...</th>\n",
       "      <th>sunrise</th>\n",
       "      <th>sunriseEpoch</th>\n",
       "      <th>sunset</th>\n",
       "      <th>sunsetEpoch</th>\n",
       "      <th>moonphase</th>\n",
       "      <th>conditions</th>\n",
       "      <th>description</th>\n",
       "      <th>icon</th>\n",
       "      <th>stations</th>\n",
       "      <th>source</th>\n",
       "    </tr>\n",
       "  </thead>\n",
       "  <tbody>\n",
       "    <tr>\n",
       "      <th>0</th>\n",
       "      <td>2022-03-01</td>\n",
       "      <td>1646053200</td>\n",
       "      <td>25.0</td>\n",
       "      <td>19.7</td>\n",
       "      <td>22.0</td>\n",
       "      <td>25.0</td>\n",
       "      <td>19.7</td>\n",
       "      <td>22.0</td>\n",
       "      <td>18.9</td>\n",
       "      <td>83.2</td>\n",
       "      <td>...</td>\n",
       "      <td>07:04:03</td>\n",
       "      <td>1646078643</td>\n",
       "      <td>20:00:24</td>\n",
       "      <td>1646125224</td>\n",
       "      <td>0.94</td>\n",
       "      <td>Rain, Partially cloudy</td>\n",
       "      <td>Partly cloudy throughout the day with a chance...</td>\n",
       "      <td>rain</td>\n",
       "      <td>['95874099999', '94866099999', '95936099999', ...</td>\n",
       "      <td>obs</td>\n",
       "    </tr>\n",
       "    <tr>\n",
       "      <th>1</th>\n",
       "      <td>2022-03-02</td>\n",
       "      <td>1646139600</td>\n",
       "      <td>29.5</td>\n",
       "      <td>19.8</td>\n",
       "      <td>23.6</td>\n",
       "      <td>29.2</td>\n",
       "      <td>19.8</td>\n",
       "      <td>23.7</td>\n",
       "      <td>17.8</td>\n",
       "      <td>73.6</td>\n",
       "      <td>...</td>\n",
       "      <td>07:05:04</td>\n",
       "      <td>1646165104</td>\n",
       "      <td>19:59:00</td>\n",
       "      <td>1646211540</td>\n",
       "      <td>0.98</td>\n",
       "      <td>Rain, Partially cloudy</td>\n",
       "      <td>Partly cloudy throughout the day with rain.</td>\n",
       "      <td>rain</td>\n",
       "      <td>['95874099999', '94866099999', '95936099999', ...</td>\n",
       "      <td>obs</td>\n",
       "    </tr>\n",
       "    <tr>\n",
       "      <th>2</th>\n",
       "      <td>2022-03-03</td>\n",
       "      <td>1646226000</td>\n",
       "      <td>29.9</td>\n",
       "      <td>17.4</td>\n",
       "      <td>23.4</td>\n",
       "      <td>29.6</td>\n",
       "      <td>17.4</td>\n",
       "      <td>23.4</td>\n",
       "      <td>16.2</td>\n",
       "      <td>67.5</td>\n",
       "      <td>...</td>\n",
       "      <td>07:06:05</td>\n",
       "      <td>1646251565</td>\n",
       "      <td>19:57:34</td>\n",
       "      <td>1646297854</td>\n",
       "      <td>0.00</td>\n",
       "      <td>Clear</td>\n",
       "      <td>Clear conditions throughout the day.</td>\n",
       "      <td>clear-day</td>\n",
       "      <td>['95874099999', '94866099999', '95936099999', ...</td>\n",
       "      <td>obs</td>\n",
       "    </tr>\n",
       "    <tr>\n",
       "      <th>3</th>\n",
       "      <td>2022-03-04</td>\n",
       "      <td>1646312400</td>\n",
       "      <td>32.1</td>\n",
       "      <td>18.2</td>\n",
       "      <td>24.2</td>\n",
       "      <td>31.9</td>\n",
       "      <td>18.2</td>\n",
       "      <td>24.1</td>\n",
       "      <td>16.6</td>\n",
       "      <td>67.2</td>\n",
       "      <td>...</td>\n",
       "      <td>07:07:05</td>\n",
       "      <td>1646338025</td>\n",
       "      <td>19:56:08</td>\n",
       "      <td>1646384168</td>\n",
       "      <td>0.04</td>\n",
       "      <td>Rain, Partially cloudy</td>\n",
       "      <td>Partly cloudy throughout the day with late aft...</td>\n",
       "      <td>rain</td>\n",
       "      <td>['95874099999', '94866099999', '95936099999', ...</td>\n",
       "      <td>obs</td>\n",
       "    </tr>\n",
       "    <tr>\n",
       "      <th>4</th>\n",
       "      <td>2022-03-05</td>\n",
       "      <td>1646398800</td>\n",
       "      <td>21.3</td>\n",
       "      <td>17.3</td>\n",
       "      <td>19.5</td>\n",
       "      <td>21.3</td>\n",
       "      <td>17.3</td>\n",
       "      <td>19.5</td>\n",
       "      <td>17.7</td>\n",
       "      <td>89.7</td>\n",
       "      <td>...</td>\n",
       "      <td>07:08:05</td>\n",
       "      <td>1646424485</td>\n",
       "      <td>19:54:42</td>\n",
       "      <td>1646470482</td>\n",
       "      <td>0.07</td>\n",
       "      <td>Rain, Overcast</td>\n",
       "      <td>Cloudy skies throughout the day with a chance ...</td>\n",
       "      <td>rain</td>\n",
       "      <td>['95874099999', '94866099999', '95936099999', ...</td>\n",
       "      <td>obs</td>\n",
       "    </tr>\n",
       "  </tbody>\n",
       "</table>\n",
       "<p>5 rows × 36 columns</p>\n",
       "</div>"
      ],
      "text/plain": [
       "     datetime  datetimeEpoch  tempmax  tempmin  temp  feelslikemax  \\\n",
       "0  2022-03-01     1646053200     25.0     19.7  22.0          25.0   \n",
       "1  2022-03-02     1646139600     29.5     19.8  23.6          29.2   \n",
       "2  2022-03-03     1646226000     29.9     17.4  23.4          29.6   \n",
       "3  2022-03-04     1646312400     32.1     18.2  24.2          31.9   \n",
       "4  2022-03-05     1646398800     21.3     17.3  19.5          21.3   \n",
       "\n",
       "   feelslikemin  feelslike   dew  humidity  ...   sunrise  sunriseEpoch  \\\n",
       "0          19.7       22.0  18.9      83.2  ...  07:04:03    1646078643   \n",
       "1          19.8       23.7  17.8      73.6  ...  07:05:04    1646165104   \n",
       "2          17.4       23.4  16.2      67.5  ...  07:06:05    1646251565   \n",
       "3          18.2       24.1  16.6      67.2  ...  07:07:05    1646338025   \n",
       "4          17.3       19.5  17.7      89.7  ...  07:08:05    1646424485   \n",
       "\n",
       "     sunset sunsetEpoch  moonphase              conditions  \\\n",
       "0  20:00:24  1646125224       0.94  Rain, Partially cloudy   \n",
       "1  19:59:00  1646211540       0.98  Rain, Partially cloudy   \n",
       "2  19:57:34  1646297854       0.00                   Clear   \n",
       "3  19:56:08  1646384168       0.04  Rain, Partially cloudy   \n",
       "4  19:54:42  1646470482       0.07          Rain, Overcast   \n",
       "\n",
       "                                         description       icon  \\\n",
       "0  Partly cloudy throughout the day with a chance...       rain   \n",
       "1        Partly cloudy throughout the day with rain.       rain   \n",
       "2               Clear conditions throughout the day.  clear-day   \n",
       "3  Partly cloudy throughout the day with late aft...       rain   \n",
       "4  Cloudy skies throughout the day with a chance ...       rain   \n",
       "\n",
       "                                            stations  source  \n",
       "0  ['95874099999', '94866099999', '95936099999', ...     obs  \n",
       "1  ['95874099999', '94866099999', '95936099999', ...     obs  \n",
       "2  ['95874099999', '94866099999', '95936099999', ...     obs  \n",
       "3  ['95874099999', '94866099999', '95936099999', ...     obs  \n",
       "4  ['95874099999', '94866099999', '95936099999', ...     obs  \n",
       "\n",
       "[5 rows x 36 columns]"
      ]
     },
     "execution_count": 4,
     "metadata": {},
     "output_type": "execute_result"
    }
   ],
   "source": [
    "df.head()"
   ]
  },
  {
   "cell_type": "code",
   "execution_count": 6,
   "metadata": {},
   "outputs": [
    {
     "data": {
      "text/plain": [
       "conditions\n",
       "Rain, Partially cloudy    8\n",
       "Clear                     3\n",
       "Rain, Overcast            2\n",
       "Partially cloudy          2\n",
       "Name: count, dtype: int64"
      ]
     },
     "execution_count": 6,
     "metadata": {},
     "output_type": "execute_result"
    }
   ],
   "source": [
    "df[\"conditions\"].value_counts()"
   ]
  },
  {
   "cell_type": "code",
   "execution_count": 1,
   "metadata": {},
   "outputs": [
    {
     "ename": "NameError",
     "evalue": "name 'df' is not defined",
     "output_type": "error",
     "traceback": [
      "\u001b[0;31m---------------------------------------------------------------------------\u001b[0m",
      "\u001b[0;31mNameError\u001b[0m                                 Traceback (most recent call last)",
      "Cell \u001b[0;32mIn[1], line 1\u001b[0m\n\u001b[0;32m----> 1\u001b[0m df\n",
      "\u001b[0;31mNameError\u001b[0m: name 'df' is not defined"
     ]
    }
   ],
   "source": [
    "df"
   ]
  },
  {
   "cell_type": "code",
   "execution_count": null,
   "metadata": {},
   "outputs": [],
   "source": []
  }
 ],
 "metadata": {
  "kernelspec": {
   "display_name": "Python 3 (ipykernel)",
   "language": "python",
   "name": "python3"
  },
  "language_info": {
   "codemirror_mode": {
    "name": "ipython",
    "version": 3
   },
   "file_extension": ".py",
   "mimetype": "text/x-python",
   "name": "python",
   "nbconvert_exporter": "python",
   "pygments_lexer": "ipython3",
   "version": "3.11.5"
  }
 },
 "nbformat": 4,
 "nbformat_minor": 2
}

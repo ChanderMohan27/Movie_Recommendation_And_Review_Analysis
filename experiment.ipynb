{
 "cells": [
  {
   "cell_type": "code",
   "execution_count": 1,
   "metadata": {},
   "outputs": [
    {
     "name": "stderr",
     "output_type": "stream",
     "text": [
      "/Users/chandermohan/anaconda3/lib/python3.11/site-packages/pandas/core/arrays/masked.py:60: UserWarning: Pandas requires version '1.3.6' or newer of 'bottleneck' (version '1.3.5' currently installed).\n",
      "  from pandas.core import (\n"
     ]
    }
   ],
   "source": [
    "import pandas as pd\n",
    "import numpy as np"
   ]
  },
  {
   "cell_type": "code",
   "execution_count": 2,
   "metadata": {},
   "outputs": [
    {
     "name": "stderr",
     "output_type": "stream",
     "text": [
      "/var/folders/kt/5z_vtfbj51b1rnt8qswv9p940000gn/T/ipykernel_43099/880863767.py:1: DtypeWarning: Columns (1) have mixed types. Specify dtype option on import or set low_memory=False.\n",
      "  df = pd.read_csv(\"movies.csv\")\n"
     ]
    }
   ],
   "source": [
    "df = pd.read_csv(\"movies.csv\")"
   ]
  },
  {
   "cell_type": "code",
   "execution_count": 27,
   "metadata": {},
   "outputs": [
    {
     "data": {
      "text/html": [
       "<div>\n",
       "<style scoped>\n",
       "    .dataframe tbody tr th:only-of-type {\n",
       "        vertical-align: middle;\n",
       "    }\n",
       "\n",
       "    .dataframe tbody tr th {\n",
       "        vertical-align: top;\n",
       "    }\n",
       "\n",
       "    .dataframe thead th {\n",
       "        text-align: right;\n",
       "    }\n",
       "</style>\n",
       "<table border=\"1\" class=\"dataframe\">\n",
       "  <thead>\n",
       "    <tr style=\"text-align: right;\">\n",
       "      <th></th>\n",
       "      <th>backdrop_path</th>\n",
       "      <th>id</th>\n",
       "      <th>title</th>\n",
       "      <th>original_title</th>\n",
       "      <th>overview</th>\n",
       "      <th>poster_path</th>\n",
       "      <th>genre_ids</th>\n",
       "      <th>popularity</th>\n",
       "      <th>release_date</th>\n",
       "      <th>vote_average</th>\n",
       "      <th>vote_count</th>\n",
       "    </tr>\n",
       "  </thead>\n",
       "  <tbody>\n",
       "    <tr>\n",
       "      <th>0</th>\n",
       "      <td>/oe7mWkvYhK4PLRNAVSvonzyUXNy.jpg</td>\n",
       "      <td>359410</td>\n",
       "      <td>Road House</td>\n",
       "      <td>Road House</td>\n",
       "      <td>Ex-UFC fighter Dalton takes a job as a bouncer...</td>\n",
       "      <td>/bXi6IQiQDHD00JFio5ZSZOeRSBh.jpg</td>\n",
       "      <td>[28, 53]</td>\n",
       "      <td>2433.669</td>\n",
       "      <td>2024-03-08</td>\n",
       "      <td>7.204</td>\n",
       "      <td>1093.0</td>\n",
       "    </tr>\n",
       "    <tr>\n",
       "      <th>1</th>\n",
       "      <td>/xOMo8BRK7PfcJv9JCnx7s5hj0PX.jpg</td>\n",
       "      <td>693134</td>\n",
       "      <td>Dune: Part Two</td>\n",
       "      <td>Dune: Part Two</td>\n",
       "      <td>Follow the mythic journey of Paul Atreides as ...</td>\n",
       "      <td>/1pdfLvkbY9ohJlCjQH2CZjjYVvJ.jpg</td>\n",
       "      <td>[878, 12]</td>\n",
       "      <td>752.461</td>\n",
       "      <td>2024-02-27</td>\n",
       "      <td>8.357</td>\n",
       "      <td>2367.0</td>\n",
       "    </tr>\n",
       "    <tr>\n",
       "      <th>2</th>\n",
       "      <td>/sR0SpCrXamlIkYMdfz83sFn5JS6.jpg</td>\n",
       "      <td>823464</td>\n",
       "      <td>Godzilla x Kong: The New Empire</td>\n",
       "      <td>Godzilla x Kong: The New Empire</td>\n",
       "      <td>Following their explosive showdown, Godzilla a...</td>\n",
       "      <td>/tMefBSflR6PGQLv7WvFPpKLZkyk.jpg</td>\n",
       "      <td>[28, 878, 12]</td>\n",
       "      <td>4436.632</td>\n",
       "      <td>2024-03-27</td>\n",
       "      <td>6.737</td>\n",
       "      <td>308.0</td>\n",
       "    </tr>\n",
       "    <tr>\n",
       "      <th>3</th>\n",
       "      <td>/pwGmXVKUgKN13psUjlhC9zBcq1o.jpg</td>\n",
       "      <td>634492</td>\n",
       "      <td>Madame Web</td>\n",
       "      <td>Madame Web</td>\n",
       "      <td>Forced to confront revelations about her past,...</td>\n",
       "      <td>/rULWuutDcN5NvtiZi4FRPzRYWSh.jpg</td>\n",
       "      <td>[28, 14]</td>\n",
       "      <td>1497.734</td>\n",
       "      <td>2024-02-14</td>\n",
       "      <td>5.637</td>\n",
       "      <td>917.0</td>\n",
       "    </tr>\n",
       "    <tr>\n",
       "      <th>4</th>\n",
       "      <td>/fS89P93Lq6pyT7d8ox8AMAEtXUs.jpg</td>\n",
       "      <td>792307</td>\n",
       "      <td>Poor Things</td>\n",
       "      <td>Poor Things</td>\n",
       "      <td>Brought back to life by an unorthodox scientis...</td>\n",
       "      <td>/kCGlIMHnOm8JPXq3rXM6c5wMxcT.jpg</td>\n",
       "      <td>[878, 10749, 35]</td>\n",
       "      <td>416.367</td>\n",
       "      <td>2023-12-07</td>\n",
       "      <td>7.820</td>\n",
       "      <td>2914.0</td>\n",
       "    </tr>\n",
       "    <tr>\n",
       "      <th>...</th>\n",
       "      <td>...</td>\n",
       "      <td>...</td>\n",
       "      <td>...</td>\n",
       "      <td>...</td>\n",
       "      <td>...</td>\n",
       "      <td>...</td>\n",
       "      <td>...</td>\n",
       "      <td>...</td>\n",
       "      <td>...</td>\n",
       "      <td>...</td>\n",
       "      <td>...</td>\n",
       "    </tr>\n",
       "    <tr>\n",
       "      <th>65539</th>\n",
       "      <td>/vNbNObzjiPU0mrQKQw3XqjOfxgQ.jpg</td>\n",
       "      <td>1247793</td>\n",
       "      <td>Kids Are Growing Up: A Story About a Kid Named...</td>\n",
       "      <td>Kids Are Growing Up: A Story About a Kid Named...</td>\n",
       "      <td>An up-close and personal behind the scenes loo...</td>\n",
       "      <td>/ksj8IPyvNIDOBk15wcxEH4tsG0O.jpg</td>\n",
       "      <td>[99, 10402]</td>\n",
       "      <td>23.189</td>\n",
       "      <td>2024-02-29</td>\n",
       "      <td>5.500</td>\n",
       "      <td>2.0</td>\n",
       "    </tr>\n",
       "    <tr>\n",
       "      <th>65540</th>\n",
       "      <td>/hmOrnAImC8QVRurauDcK0l3jjyw.jpg</td>\n",
       "      <td>417466</td>\n",
       "      <td>Monos</td>\n",
       "      <td>Monos</td>\n",
       "      <td>On a faraway mountaintop, eight kids with guns...</td>\n",
       "      <td>/oxxIOWDP6beG37VG3jMxE77pRwC.jpg</td>\n",
       "      <td>[18, 12]</td>\n",
       "      <td>13.891</td>\n",
       "      <td>2019-08-15</td>\n",
       "      <td>6.649</td>\n",
       "      <td>365.0</td>\n",
       "    </tr>\n",
       "    <tr>\n",
       "      <th>65541</th>\n",
       "      <td>/mN8L1gYgbLZW88jwj3ok2WO4UvE.jpg</td>\n",
       "      <td>7979</td>\n",
       "      <td>The Kite Runner</td>\n",
       "      <td>The Kite Runner</td>\n",
       "      <td>After spending years in California, Amir retur...</td>\n",
       "      <td>/dom2esWWW8C9jS2v7dOhW48LwHh.jpg</td>\n",
       "      <td>[18]</td>\n",
       "      <td>20.222</td>\n",
       "      <td>2007-12-14</td>\n",
       "      <td>7.300</td>\n",
       "      <td>1098.0</td>\n",
       "    </tr>\n",
       "    <tr>\n",
       "      <th>65542</th>\n",
       "      <td>/iDTJo9M5SLOCwqbixLt5USHz39E.jpg</td>\n",
       "      <td>2487</td>\n",
       "      <td>Lady Snowblood</td>\n",
       "      <td>修羅雪姫</td>\n",
       "      <td>Yuki's family is nearly wiped out before she i...</td>\n",
       "      <td>/wkcbaqCoYEXDUnSQ6NTnB2C7H05.jpg</td>\n",
       "      <td>[28, 80, 18]</td>\n",
       "      <td>17.634</td>\n",
       "      <td>1973-12-01</td>\n",
       "      <td>7.545</td>\n",
       "      <td>345.0</td>\n",
       "    </tr>\n",
       "    <tr>\n",
       "      <th>65543</th>\n",
       "      <td>/c8H6Xi9im1tT6HP9PA9HpFE3sOy.jpg</td>\n",
       "      <td>11443</td>\n",
       "      <td>Dead Presidents</td>\n",
       "      <td>Dead Presidents</td>\n",
       "      <td>On the streets they call cash dead presidents....</td>\n",
       "      <td>/wRLepMZoUCwjLFb1WSbuUT6uVWR.jpg</td>\n",
       "      <td>[28, 80]</td>\n",
       "      <td>14.905</td>\n",
       "      <td>1995-09-29</td>\n",
       "      <td>6.700</td>\n",
       "      <td>274.0</td>\n",
       "    </tr>\n",
       "  </tbody>\n",
       "</table>\n",
       "<p>65544 rows × 11 columns</p>\n",
       "</div>"
      ],
      "text/plain": [
       "                          backdrop_path       id  \\\n",
       "0      /oe7mWkvYhK4PLRNAVSvonzyUXNy.jpg   359410   \n",
       "1      /xOMo8BRK7PfcJv9JCnx7s5hj0PX.jpg   693134   \n",
       "2      /sR0SpCrXamlIkYMdfz83sFn5JS6.jpg   823464   \n",
       "3      /pwGmXVKUgKN13psUjlhC9zBcq1o.jpg   634492   \n",
       "4      /fS89P93Lq6pyT7d8ox8AMAEtXUs.jpg   792307   \n",
       "...                                 ...      ...   \n",
       "65539  /vNbNObzjiPU0mrQKQw3XqjOfxgQ.jpg  1247793   \n",
       "65540  /hmOrnAImC8QVRurauDcK0l3jjyw.jpg   417466   \n",
       "65541  /mN8L1gYgbLZW88jwj3ok2WO4UvE.jpg     7979   \n",
       "65542  /iDTJo9M5SLOCwqbixLt5USHz39E.jpg     2487   \n",
       "65543  /c8H6Xi9im1tT6HP9PA9HpFE3sOy.jpg    11443   \n",
       "\n",
       "                                                   title  \\\n",
       "0                                             Road House   \n",
       "1                                         Dune: Part Two   \n",
       "2                        Godzilla x Kong: The New Empire   \n",
       "3                                             Madame Web   \n",
       "4                                            Poor Things   \n",
       "...                                                  ...   \n",
       "65539  Kids Are Growing Up: A Story About a Kid Named...   \n",
       "65540                                              Monos   \n",
       "65541                                    The Kite Runner   \n",
       "65542                                     Lady Snowblood   \n",
       "65543                                    Dead Presidents   \n",
       "\n",
       "                                          original_title  \\\n",
       "0                                             Road House   \n",
       "1                                         Dune: Part Two   \n",
       "2                        Godzilla x Kong: The New Empire   \n",
       "3                                             Madame Web   \n",
       "4                                            Poor Things   \n",
       "...                                                  ...   \n",
       "65539  Kids Are Growing Up: A Story About a Kid Named...   \n",
       "65540                                              Monos   \n",
       "65541                                    The Kite Runner   \n",
       "65542                                               修羅雪姫   \n",
       "65543                                    Dead Presidents   \n",
       "\n",
       "                                                overview  \\\n",
       "0      Ex-UFC fighter Dalton takes a job as a bouncer...   \n",
       "1      Follow the mythic journey of Paul Atreides as ...   \n",
       "2      Following their explosive showdown, Godzilla a...   \n",
       "3      Forced to confront revelations about her past,...   \n",
       "4      Brought back to life by an unorthodox scientis...   \n",
       "...                                                  ...   \n",
       "65539  An up-close and personal behind the scenes loo...   \n",
       "65540  On a faraway mountaintop, eight kids with guns...   \n",
       "65541  After spending years in California, Amir retur...   \n",
       "65542  Yuki's family is nearly wiped out before she i...   \n",
       "65543  On the streets they call cash dead presidents....   \n",
       "\n",
       "                            poster_path         genre_ids  popularity  \\\n",
       "0      /bXi6IQiQDHD00JFio5ZSZOeRSBh.jpg          [28, 53]    2433.669   \n",
       "1      /1pdfLvkbY9ohJlCjQH2CZjjYVvJ.jpg         [878, 12]     752.461   \n",
       "2      /tMefBSflR6PGQLv7WvFPpKLZkyk.jpg     [28, 878, 12]    4436.632   \n",
       "3      /rULWuutDcN5NvtiZi4FRPzRYWSh.jpg          [28, 14]    1497.734   \n",
       "4      /kCGlIMHnOm8JPXq3rXM6c5wMxcT.jpg  [878, 10749, 35]     416.367   \n",
       "...                                 ...               ...         ...   \n",
       "65539  /ksj8IPyvNIDOBk15wcxEH4tsG0O.jpg       [99, 10402]      23.189   \n",
       "65540  /oxxIOWDP6beG37VG3jMxE77pRwC.jpg          [18, 12]      13.891   \n",
       "65541  /dom2esWWW8C9jS2v7dOhW48LwHh.jpg              [18]      20.222   \n",
       "65542  /wkcbaqCoYEXDUnSQ6NTnB2C7H05.jpg      [28, 80, 18]      17.634   \n",
       "65543  /wRLepMZoUCwjLFb1WSbuUT6uVWR.jpg          [28, 80]      14.905   \n",
       "\n",
       "      release_date  vote_average  vote_count  \n",
       "0       2024-03-08         7.204      1093.0  \n",
       "1       2024-02-27         8.357      2367.0  \n",
       "2       2024-03-27         6.737       308.0  \n",
       "3       2024-02-14         5.637       917.0  \n",
       "4       2023-12-07         7.820      2914.0  \n",
       "...            ...           ...         ...  \n",
       "65539   2024-02-29         5.500         2.0  \n",
       "65540   2019-08-15         6.649       365.0  \n",
       "65541   2007-12-14         7.300      1098.0  \n",
       "65542   1973-12-01         7.545       345.0  \n",
       "65543   1995-09-29         6.700       274.0  \n",
       "\n",
       "[65544 rows x 11 columns]"
      ]
     },
     "execution_count": 27,
     "metadata": {},
     "output_type": "execute_result"
    }
   ],
   "source": [
    "df"
   ]
  },
  {
   "cell_type": "code",
   "execution_count": 28,
   "metadata": {},
   "outputs": [],
   "source": [
    "duplicate_rows = df.duplicated() "
   ]
  },
  {
   "cell_type": "code",
   "execution_count": 29,
   "metadata": {},
   "outputs": [
    {
     "data": {
      "text/plain": [
       "0        False\n",
       "1        False\n",
       "2        False\n",
       "3        False\n",
       "4        False\n",
       "         ...  \n",
       "65539    False\n",
       "65540    False\n",
       "65541    False\n",
       "65542    False\n",
       "65543    False\n",
       "Length: 65544, dtype: bool"
      ]
     },
     "execution_count": 29,
     "metadata": {},
     "output_type": "execute_result"
    }
   ],
   "source": [
    "duplicate_rows"
   ]
  },
  {
   "cell_type": "code",
   "execution_count": 14,
   "metadata": {},
   "outputs": [],
   "source": [
    "null_values = df.isnull().sum()\n"
   ]
  },
  {
   "cell_type": "code",
   "execution_count": 33,
   "metadata": {},
   "outputs": [],
   "source": [
    "df_no_duplicates = df.drop_duplicates()"
   ]
  },
  {
   "cell_type": "code",
   "execution_count": 34,
   "metadata": {},
   "outputs": [
    {
     "data": {
      "text/plain": [
       "9891"
      ]
     },
     "execution_count": 34,
     "metadata": {},
     "output_type": "execute_result"
    }
   ],
   "source": [
    "len(df_no_duplicates)"
   ]
  },
  {
   "cell_type": "code",
   "execution_count": 37,
   "metadata": {},
   "outputs": [],
   "source": [
    "new_df = df_no_duplicates.dropna()"
   ]
  },
  {
   "cell_type": "code",
   "execution_count": 38,
   "metadata": {},
   "outputs": [
    {
     "data": {
      "text/plain": [
       "backdrop_path     0\n",
       "id                0\n",
       "title             0\n",
       "original_title    0\n",
       "overview          0\n",
       "poster_path       0\n",
       "genre_ids         0\n",
       "popularity        0\n",
       "release_date      0\n",
       "vote_average      0\n",
       "vote_count        0\n",
       "dtype: int64"
      ]
     },
     "execution_count": 38,
     "metadata": {},
     "output_type": "execute_result"
    }
   ],
   "source": [
    "new_df.isna().sum()"
   ]
  },
  {
   "cell_type": "code",
   "execution_count": 42,
   "metadata": {},
   "outputs": [
    {
     "ename": "AttributeError",
     "evalue": "'DataFrame' object has no attribute 'duplicate'",
     "output_type": "error",
     "traceback": [
      "\u001b[0;31m---------------------------------------------------------------------------\u001b[0m",
      "\u001b[0;31mAttributeError\u001b[0m                            Traceback (most recent call last)",
      "\u001b[0;32m/var/folders/kt/5z_vtfbj51b1rnt8qswv9p940000gn/T/ipykernel_43099/1848844608.py\u001b[0m in \u001b[0;36m?\u001b[0;34m()\u001b[0m\n\u001b[0;32m----> 1\u001b[0;31m \u001b[0mnew_df\u001b[0m\u001b[0;34m.\u001b[0m\u001b[0mduplicate\u001b[0m\u001b[0;34m(\u001b[0m\u001b[0;34m)\u001b[0m\u001b[0;34m\u001b[0m\u001b[0;34m\u001b[0m\u001b[0m\n\u001b[0m",
      "\u001b[0;32m~/anaconda3/lib/python3.11/site-packages/pandas/core/generic.py\u001b[0m in \u001b[0;36m?\u001b[0;34m(self, name)\u001b[0m\n\u001b[1;32m   6292\u001b[0m             \u001b[0;32mand\u001b[0m \u001b[0mname\u001b[0m \u001b[0;32mnot\u001b[0m \u001b[0;32min\u001b[0m \u001b[0mself\u001b[0m\u001b[0;34m.\u001b[0m\u001b[0m_accessors\u001b[0m\u001b[0;34m\u001b[0m\u001b[0;34m\u001b[0m\u001b[0m\n\u001b[1;32m   6293\u001b[0m             \u001b[0;32mand\u001b[0m \u001b[0mself\u001b[0m\u001b[0;34m.\u001b[0m\u001b[0m_info_axis\u001b[0m\u001b[0;34m.\u001b[0m\u001b[0m_can_hold_identifiers_and_holds_name\u001b[0m\u001b[0;34m(\u001b[0m\u001b[0mname\u001b[0m\u001b[0;34m)\u001b[0m\u001b[0;34m\u001b[0m\u001b[0;34m\u001b[0m\u001b[0m\n\u001b[1;32m   6294\u001b[0m         ):\n\u001b[1;32m   6295\u001b[0m             \u001b[0;32mreturn\u001b[0m \u001b[0mself\u001b[0m\u001b[0;34m[\u001b[0m\u001b[0mname\u001b[0m\u001b[0;34m]\u001b[0m\u001b[0;34m\u001b[0m\u001b[0;34m\u001b[0m\u001b[0m\n\u001b[0;32m-> 6296\u001b[0;31m         \u001b[0;32mreturn\u001b[0m \u001b[0mobject\u001b[0m\u001b[0;34m.\u001b[0m\u001b[0m__getattribute__\u001b[0m\u001b[0;34m(\u001b[0m\u001b[0mself\u001b[0m\u001b[0;34m,\u001b[0m \u001b[0mname\u001b[0m\u001b[0;34m)\u001b[0m\u001b[0;34m\u001b[0m\u001b[0;34m\u001b[0m\u001b[0m\n\u001b[0m",
      "\u001b[0;31mAttributeError\u001b[0m: 'DataFrame' object has no attribute 'duplicate'"
     ]
    }
   ],
   "source": []
  },
  {
   "cell_type": "code",
   "execution_count": 6,
   "metadata": {},
   "outputs": [
    {
     "data": {
      "text/plain": [
       "conditions\n",
       "Rain, Partially cloudy    8\n",
       "Clear                     3\n",
       "Rain, Overcast            2\n",
       "Partially cloudy          2\n",
       "Name: count, dtype: int64"
      ]
     },
     "execution_count": 6,
     "metadata": {},
     "output_type": "execute_result"
    }
   ],
   "source": [
    "df[\"conditions\"].value_counts()"
   ]
  },
  {
   "cell_type": "code",
   "execution_count": 46,
   "metadata": {},
   "outputs": [
    {
     "data": {
      "text/plain": [
       "9754"
      ]
     },
     "execution_count": 46,
     "metadata": {},
     "output_type": "execute_result"
    }
   ],
   "source": [
    "len(new_df[\"id\"].unique())"
   ]
  },
  {
   "cell_type": "code",
   "execution_count": 47,
   "metadata": {},
   "outputs": [],
   "source": [
    "new_df.to_csv(\"cleaned_movies.csv\", index=False)"
   ]
  },
  {
   "cell_type": "code",
   "execution_count": 48,
   "metadata": {},
   "outputs": [],
   "source": [
    "dff = pd.read_csv(\"cleaned_movies.csv\")"
   ]
  },
  {
   "cell_type": "code",
   "execution_count": 51,
   "metadata": {},
   "outputs": [
    {
     "data": {
      "text/plain": [
       "[359410,\n",
       " 693134,\n",
       " 823464,\n",
       " 634492,\n",
       " 792307,\n",
       " 438631,\n",
       " 763215,\n",
       " 1011985,\n",
       " 872585,\n",
       " 1125311]"
      ]
     },
     "execution_count": 51,
     "metadata": {},
     "output_type": "execute_result"
    }
   ],
   "source": [
    "dff['id'][0:10].tolist()"
   ]
  },
  {
   "cell_type": "code",
   "execution_count": 63,
   "metadata": {},
   "outputs": [],
   "source": [
    "crew_detail = pd.read_csv(\"movie_details.csv\")"
   ]
  },
  {
   "cell_type": "code",
   "execution_count": 65,
   "metadata": {},
   "outputs": [
    {
     "data": {
      "text/html": [
       "<div>\n",
       "<style scoped>\n",
       "    .dataframe tbody tr th:only-of-type {\n",
       "        vertical-align: middle;\n",
       "    }\n",
       "\n",
       "    .dataframe tbody tr th {\n",
       "        vertical-align: top;\n",
       "    }\n",
       "\n",
       "    .dataframe thead th {\n",
       "        text-align: right;\n",
       "    }\n",
       "</style>\n",
       "<table border=\"1\" class=\"dataframe\">\n",
       "  <thead>\n",
       "    <tr style=\"text-align: right;\">\n",
       "      <th></th>\n",
       "      <th>budget</th>\n",
       "      <th>genres</th>\n",
       "      <th>imdb_id</th>\n",
       "      <th>movie_id</th>\n",
       "      <th>runtime</th>\n",
       "      <th>tagline</th>\n",
       "    </tr>\n",
       "  </thead>\n",
       "  <tbody>\n",
       "    <tr>\n",
       "      <th>0</th>\n",
       "      <td>85000000</td>\n",
       "      <td>Action, Thriller</td>\n",
       "      <td>tt3359350</td>\n",
       "      <td>359410</td>\n",
       "      <td>121</td>\n",
       "      <td>Take it outside.</td>\n",
       "    </tr>\n",
       "    <tr>\n",
       "      <th>1</th>\n",
       "      <td>190000000</td>\n",
       "      <td>Science Fiction, Adventure</td>\n",
       "      <td>tt15239678</td>\n",
       "      <td>693134</td>\n",
       "      <td>167</td>\n",
       "      <td>Long live the fighters.</td>\n",
       "    </tr>\n",
       "    <tr>\n",
       "      <th>2</th>\n",
       "      <td>135000000</td>\n",
       "      <td>Action, Science Fiction, Adventure</td>\n",
       "      <td>tt14539740</td>\n",
       "      <td>823464</td>\n",
       "      <td>115</td>\n",
       "      <td>Rise together or fall alone.</td>\n",
       "    </tr>\n",
       "    <tr>\n",
       "      <th>3</th>\n",
       "      <td>80000000</td>\n",
       "      <td>Action, Fantasy</td>\n",
       "      <td>tt11057302</td>\n",
       "      <td>634492</td>\n",
       "      <td>116</td>\n",
       "      <td>Her web connects them all.</td>\n",
       "    </tr>\n",
       "    <tr>\n",
       "      <th>4</th>\n",
       "      <td>35000000</td>\n",
       "      <td>Science Fiction, Romance, Comedy</td>\n",
       "      <td>tt14230458</td>\n",
       "      <td>792307</td>\n",
       "      <td>142</td>\n",
       "      <td>She's like nothing you've ever seen.</td>\n",
       "    </tr>\n",
       "    <tr>\n",
       "      <th>...</th>\n",
       "      <td>...</td>\n",
       "      <td>...</td>\n",
       "      <td>...</td>\n",
       "      <td>...</td>\n",
       "      <td>...</td>\n",
       "      <td>...</td>\n",
       "    </tr>\n",
       "    <tr>\n",
       "      <th>9749</th>\n",
       "      <td>0</td>\n",
       "      <td>Documentary, Music</td>\n",
       "      <td>tt31415596</td>\n",
       "      <td>1247793</td>\n",
       "      <td>85</td>\n",
       "      <td>NaN</td>\n",
       "    </tr>\n",
       "    <tr>\n",
       "      <th>9750</th>\n",
       "      <td>1800000</td>\n",
       "      <td>Drama, Adventure</td>\n",
       "      <td>tt6062774</td>\n",
       "      <td>417466</td>\n",
       "      <td>103</td>\n",
       "      <td>Survival is a cruel game.</td>\n",
       "    </tr>\n",
       "    <tr>\n",
       "      <th>9751</th>\n",
       "      <td>20000000</td>\n",
       "      <td>Drama</td>\n",
       "      <td>tt0419887</td>\n",
       "      <td>7979</td>\n",
       "      <td>128</td>\n",
       "      <td>There is a way to be good again.</td>\n",
       "    </tr>\n",
       "    <tr>\n",
       "      <th>9752</th>\n",
       "      <td>0</td>\n",
       "      <td>Action, Crime, Drama</td>\n",
       "      <td>tt0158714</td>\n",
       "      <td>2487</td>\n",
       "      <td>97</td>\n",
       "      <td>I threw away my tears. I gave up my heart. I c...</td>\n",
       "    </tr>\n",
       "    <tr>\n",
       "      <th>9753</th>\n",
       "      <td>10000000</td>\n",
       "      <td>Action, Crime</td>\n",
       "      <td>tt0112819</td>\n",
       "      <td>11443</td>\n",
       "      <td>119</td>\n",
       "      <td>In this daring heist, the only color that coun...</td>\n",
       "    </tr>\n",
       "  </tbody>\n",
       "</table>\n",
       "<p>9754 rows × 6 columns</p>\n",
       "</div>"
      ],
      "text/plain": [
       "         budget                              genres     imdb_id  movie_id  \\\n",
       "0      85000000                    Action, Thriller   tt3359350    359410   \n",
       "1     190000000          Science Fiction, Adventure  tt15239678    693134   \n",
       "2     135000000  Action, Science Fiction, Adventure  tt14539740    823464   \n",
       "3      80000000                     Action, Fantasy  tt11057302    634492   \n",
       "4      35000000    Science Fiction, Romance, Comedy  tt14230458    792307   \n",
       "...         ...                                 ...         ...       ...   \n",
       "9749          0                  Documentary, Music  tt31415596   1247793   \n",
       "9750    1800000                    Drama, Adventure   tt6062774    417466   \n",
       "9751   20000000                               Drama   tt0419887      7979   \n",
       "9752          0                Action, Crime, Drama   tt0158714      2487   \n",
       "9753   10000000                       Action, Crime   tt0112819     11443   \n",
       "\n",
       "      runtime                                            tagline  \n",
       "0         121                                   Take it outside.  \n",
       "1         167                            Long live the fighters.  \n",
       "2         115                       Rise together or fall alone.  \n",
       "3         116                         Her web connects them all.  \n",
       "4         142               She's like nothing you've ever seen.  \n",
       "...       ...                                                ...  \n",
       "9749       85                                                NaN  \n",
       "9750      103                          Survival is a cruel game.  \n",
       "9751      128                   There is a way to be good again.  \n",
       "9752       97  I threw away my tears. I gave up my heart. I c...  \n",
       "9753      119  In this daring heist, the only color that coun...  \n",
       "\n",
       "[9754 rows x 6 columns]"
      ]
     },
     "execution_count": 65,
     "metadata": {},
     "output_type": "execute_result"
    }
   ],
   "source": [
    "crew_detail"
   ]
  },
  {
   "cell_type": "code",
   "execution_count": 61,
   "metadata": {},
   "outputs": [],
   "source": []
  },
  {
   "cell_type": "code",
   "execution_count": null,
   "metadata": {},
   "outputs": [],
   "source": []
  },
  {
   "cell_type": "code",
   "execution_count": null,
   "metadata": {},
   "outputs": [],
   "source": []
  }
 ],
 "metadata": {
  "kernelspec": {
   "display_name": "Python 3 (ipykernel)",
   "language": "python",
   "name": "python3"
  },
  "language_info": {
   "codemirror_mode": {
    "name": "ipython",
    "version": 3
   },
   "file_extension": ".py",
   "mimetype": "text/x-python",
   "name": "python",
   "nbconvert_exporter": "python",
   "pygments_lexer": "ipython3",
   "version": "3.11.5"
  }
 },
 "nbformat": 4,
 "nbformat_minor": 2
}
